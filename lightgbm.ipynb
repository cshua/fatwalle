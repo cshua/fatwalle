{
 "cells": [
  {
   "cell_type": "code",
   "execution_count": 3,
   "metadata": {},
   "outputs": [],
   "source": [
    "import lightgbm as lgb\n",
    "from init_ulits import *\n",
    "import numpy as np\n",
    "import pandas as pd\n",
    "from sklearn import metrics\n",
    "from sklearn.model_selection import train_test_split\n",
    "import math"
   ]
  },
  {
   "cell_type": "code",
   "execution_count": 4,
   "metadata": {},
   "outputs": [],
   "source": [
    "train_data = load_data('tap_fun_train.csv')\n",
    "test_data = load_data('tap_fun_test.csv')"
   ]
  },
  {
   "cell_type": "markdown",
   "metadata": {},
   "source": [
    "## 数据分割成4部分\n",
    "1. 训练集 train\n",
    "2. 验证集 eval\n",
    "3. 测试集 test\n",
    "4. 预测集 predict"
   ]
  },
  {
   "cell_type": "code",
   "execution_count": 5,
   "metadata": {},
   "outputs": [],
   "source": [
    "Y = train_data['prediction_pay_price']\n",
    "X = train_data.drop(['prediction_pay_price','user_id','register_time'], axis=1)\n",
    "X_predict = test_data.drop(['user_id','register_time'], axis=1)"
   ]
  },
  {
   "cell_type": "code",
   "execution_count": 6,
   "metadata": {},
   "outputs": [],
   "source": [
    "X, X_test, Y, Y_test = train_test_split(X, Y, random_state = 33, test_size = 0.1)\n",
    "X_train, X_eval, Y_train, Y_eval = train_test_split(X, Y, random_state = 33, test_size = 0.1)"
   ]
  },
  {
   "cell_type": "code",
   "execution_count": 7,
   "metadata": {},
   "outputs": [],
   "source": [
    "lgb_train = lgb.Dataset(X_train, Y_train, free_raw_data=False)\n",
    "lgb_eval = lgb.Dataset(X_eval, Y_eval, reference=lgb_train,free_raw_data=False)"
   ]
  },
  {
   "cell_type": "code",
   "execution_count": 174,
   "metadata": {},
   "outputs": [],
   "source": [
    "params = {\n",
    "    'boosting_type': 'gbdt',\n",
    "    'objective': 'regression',\n",
    "    'metric': 'mean_squared_error',\n",
    "    'learning_rate': 0.01,\n",
    "    'num_leaves':127,\n",
    "    'max_bin':800,\n",
    "    'min_data_in_leaf':2,\n",
    "    'feature_fraction': 0.6,\n",
    "    'bagging_fraction': 0.7,\n",
    "    'bagging_freq':1,\n",
    "    'lambda_l1': 0.5,\n",
    "    'lambda_l2': 0,\n",
    "    'min_split_gain': 0,\n",
    "    'max_depth':7\n",
    " }\n",
    "eresult = {}"
   ]
  },
  {
   "cell_type": "code",
   "execution_count": 175,
   "metadata": {},
   "outputs": [
    {
     "name": "stdout",
     "output_type": "stream",
     "text": [
      "Training until validation scores don't improve for 100 rounds.\n",
      "[10]\ttrain's l2: 6351.29\teval's l2: 7489.56\n",
      "[20]\ttrain's l2: 5540.66\teval's l2: 6894.57\n",
      "[30]\ttrain's l2: 4870.9\teval's l2: 6475.13\n",
      "[40]\ttrain's l2: 4298.55\teval's l2: 6092.22\n",
      "[50]\ttrain's l2: 3813.6\teval's l2: 5802.7\n",
      "[60]\ttrain's l2: 3394.84\teval's l2: 5565.92\n",
      "[70]\ttrain's l2: 3046.87\teval's l2: 5351.1\n",
      "[80]\ttrain's l2: 2734.01\teval's l2: 5181.42\n",
      "[90]\ttrain's l2: 2475.89\teval's l2: 5075.19\n",
      "[100]\ttrain's l2: 2259.26\teval's l2: 4972.31\n",
      "[110]\ttrain's l2: 2076.59\teval's l2: 4914.53\n",
      "[120]\ttrain's l2: 1912.14\teval's l2: 4859.17\n",
      "[130]\ttrain's l2: 1771.06\teval's l2: 4849.88\n",
      "[140]\ttrain's l2: 1647.69\teval's l2: 4815.58\n",
      "[150]\ttrain's l2: 1545.56\teval's l2: 4801.36\n",
      "[160]\ttrain's l2: 1453.65\teval's l2: 4779.88\n",
      "[170]\ttrain's l2: 1374.26\teval's l2: 4781.92\n",
      "[180]\ttrain's l2: 1301.45\teval's l2: 4747.34\n",
      "[190]\ttrain's l2: 1240.02\teval's l2: 4730.85\n",
      "[200]\ttrain's l2: 1181.39\teval's l2: 4720.42\n",
      "[210]\ttrain's l2: 1133.26\teval's l2: 4711.92\n",
      "[220]\ttrain's l2: 1089.36\teval's l2: 4720.61\n",
      "[230]\ttrain's l2: 1052.75\teval's l2: 4743.99\n",
      "[240]\ttrain's l2: 1015.68\teval's l2: 4746.68\n",
      "[250]\ttrain's l2: 984.877\teval's l2: 4750.42\n",
      "[260]\ttrain's l2: 955.51\teval's l2: 4766.33\n",
      "[270]\ttrain's l2: 932.175\teval's l2: 4779.07\n",
      "[280]\ttrain's l2: 908.59\teval's l2: 4792.52\n",
      "[290]\ttrain's l2: 890.994\teval's l2: 4808.98\n",
      "[300]\ttrain's l2: 868.011\teval's l2: 4823.93\n",
      "[310]\ttrain's l2: 848.691\teval's l2: 4839.92\n",
      "Early stopping, best iteration is:\n",
      "[211]\ttrain's l2: 1129.33\teval's l2: 4708.86\n"
     ]
    }
   ],
   "source": [
    "gbm = lgb.train(params,\n",
    "                lgb_train,num_boost_round=4000, \n",
    "                valid_sets=[lgb_eval,lgb_train],\n",
    "                valid_names = ['eval', 'train'],\n",
    "                verbose_eval=10,\n",
    "                evals_result=eresult,\n",
    "                early_stopping_rounds=100)"
   ]
  },
  {
   "cell_type": "markdown",
   "metadata": {},
   "source": [
    "### 测试集cost"
   ]
  },
  {
   "cell_type": "code",
   "execution_count": 176,
   "metadata": {},
   "outputs": [
    {
     "name": "stdout",
     "output_type": "stream",
     "text": [
      "82.0045763406069\n"
     ]
    }
   ],
   "source": [
    "predict =  gbm.predict(X_test, num_iteration=gbm.best_iteration)\n",
    "cost = metrics.mean_squared_error(Y_test, predict)\n",
    "sqlrtcost = math.sqrt( cost )\n",
    "print(sqlrtcost)"
   ]
  },
  {
   "cell_type": "markdown",
   "metadata": {},
   "source": [
    "### 验证集cost"
   ]
  },
  {
   "cell_type": "code",
   "execution_count": 177,
   "metadata": {},
   "outputs": [
    {
     "name": "stdout",
     "output_type": "stream",
     "text": [
      "68.62117001113482\n"
     ]
    }
   ],
   "source": [
    "predict =  gbm.predict(X_eval, num_iteration=gbm.best_iteration)\n",
    "cost = metrics.mean_squared_error(Y_eval, predict)\n",
    "sqlrtcost = math.sqrt( cost )\n",
    "print(sqlrtcost)"
   ]
  },
  {
   "cell_type": "code",
   "execution_count": 22,
   "metadata": {},
   "outputs": [
    {
     "name": "stdout",
     "output_type": "stream",
     "text": [
      "[ 0.  0.  0. ...,  0.  0.  0.]\n"
     ]
    }
   ],
   "source": [
    "# predict[ predict < 0.5 ] = 0\n",
    "# predict[ (0.5 < predict) & (predict < 1.5) ] = 0.99\n",
    "# predict[ (1.5 < predict) &  (predict < 2.5) ] = 1.98\n",
    "# predict[ (2.5 < predict) &  (predict < 3.5) ] = 2.97\n",
    "# print(predict)"
   ]
  },
  {
   "cell_type": "markdown",
   "metadata": {},
   "source": [
    "## 预测并输出"
   ]
  },
  {
   "cell_type": "code",
   "execution_count": 178,
   "metadata": {},
   "outputs": [],
   "source": [
    "Y_predict =  gbm.predict(X_predict, num_iteration=gbm.best_iteration)\n",
    "# Y_predict[ Y_predict < 0.5 ] = 0\n",
    "# Y_predict[ (0.5 < Y_predict) & (Y_predict < 1.5) ] = 0.99\n",
    "# Y_predict[ (1.5 < Y_predict) &  (Y_predict < 2.5) ] = 1.98\n",
    "# Y_predict[ (2.5 < Y_predict) &  (Y_predict < 3.5) ] = 2.97"
   ]
  },
  {
   "cell_type": "code",
   "execution_count": 179,
   "metadata": {},
   "outputs": [],
   "source": [
    "df = test_data[['user_id']]\n",
    "df.insert(1,'prediction_pay_price',Y_predict)\n",
    "# df['prediction_pay_price'] = Y_predict\n",
    "\n",
    "# df['prediction_pay_price'].round(2)\n",
    "df.to_csv(\"20180708.csv\",index=None,sep=',')"
   ]
  }
 ],
 "metadata": {
  "kernelspec": {
   "display_name": "Python 3",
   "language": "python",
   "name": "python3"
  },
  "language_info": {
   "codemirror_mode": {
    "name": "ipython",
    "version": 3
   },
   "file_extension": ".py",
   "mimetype": "text/x-python",
   "name": "python",
   "nbconvert_exporter": "python",
   "pygments_lexer": "ipython3",
   "version": "3.6.4"
  }
 },
 "nbformat": 4,
 "nbformat_minor": 2
}
